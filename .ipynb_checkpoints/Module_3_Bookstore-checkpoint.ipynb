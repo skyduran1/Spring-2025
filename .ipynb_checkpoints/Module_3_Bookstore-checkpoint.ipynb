{
 "cells": [
  {
   "cell_type": "code",
   "execution_count": 1,
   "id": "276625a2-0d44-45fe-9438-073cada386d9",
   "metadata": {},
   "outputs": [],
   "source": [
    "import pandas as pd\n",
    "import requests\n",
    "from bs4 import BeautifulSoup"
   ]
  },
  {
   "cell_type": "code",
   "execution_count": 2,
   "id": "13d9a479-6bf0-4d61-a96c-4c4d8d8c80f4",
   "metadata": {},
   "outputs": [],
   "source": [
    "response = requests.get('https://btech-data-analytics.github.io/bridgerland-technical-college/bookstore.html').text"
   ]
  },
  {
   "cell_type": "code",
   "execution_count": 3,
   "id": "bfb9e80c-7214-416e-ad1e-f68ba5a1c1aa",
   "metadata": {},
   "outputs": [],
   "source": [
    "soup = BeautifulSoup(response, 'html.parser')"
   ]
  },
  {
   "cell_type": "code",
   "execution_count": 4,
   "id": "2bf14c6b-b280-41f6-b29e-0ebdbbc0a262",
   "metadata": {},
   "outputs": [],
   "source": [
    "isbn = []\n",
    "title = []\n",
    "author = []\n",
    "language = []\n",
    "pages = []\n",
    "topic = []\n",
    "price = []\n",
    "\n",
    "for book in soup.find('table').find_all('tr', class_='book'):\n",
    "    isbn.append(book.find_all('td')[0].text)\n",
    "    title.append(book.find_all('td')[1].text)\n",
    "    author.append(book.find_all('td')[2].text)\n",
    "    language.append(book.find_all('td')[3].text)\n",
    "    pages.append(book.find_all('td')[4].text)\n",
    "    topic.append(book.find_all('td')[5].text)\n",
    "    price.append(book.find_all('td')[6].text)"
   ]
  },
  {
   "cell_type": "code",
   "execution_count": 5,
   "id": "f6a79ed6-a9ac-425f-a4ab-c4a4eda38b94",
   "metadata": {},
   "outputs": [],
   "source": [
    "df = pd.DataFrame({\n",
    "    'isbn': isbn,\n",
    "    'title': title,\n",
    "    'author': author,\n",
    "    'language': language,\n",
    "    'pages': pages,\n",
    "    'topic': topic,\n",
    "    'price': price\n",
    "})"
   ]
  },
  {
   "cell_type": "code",
   "execution_count": 6,
   "id": "631bbd83-da51-4793-a9f5-a0c7eab78261",
   "metadata": {},
   "outputs": [
    {
     "name": "stdout",
     "output_type": "stream",
     "text": [
      "<class 'pandas.core.frame.DataFrame'>\n",
      "RangeIndex: 15 entries, 0 to 14\n",
      "Data columns (total 7 columns):\n",
      " #   Column    Non-Null Count  Dtype \n",
      "---  ------    --------------  ----- \n",
      " 0   isbn      15 non-null     object\n",
      " 1   title     15 non-null     object\n",
      " 2   author    15 non-null     object\n",
      " 3   language  15 non-null     object\n",
      " 4   pages     15 non-null     object\n",
      " 5   topic     15 non-null     object\n",
      " 6   price     15 non-null     object\n",
      "dtypes: object(7)\n",
      "memory usage: 972.0+ bytes\n"
     ]
    }
   ],
   "source": [
    "df.info()"
   ]
  },
  {
   "cell_type": "code",
   "execution_count": 9,
   "id": "5a788519-8ee6-4f39-97c3-ed60a5e94f72",
   "metadata": {},
   "outputs": [],
   "source": [
    "df['pages'] = df['pages'].astype(int)\n",
    "df['price'] = df['price'].str.split('$').str[-1].str.replace(',', '').astype(float)"
   ]
  },
  {
   "cell_type": "code",
   "execution_count": 10,
   "id": "e8b758b5-11a5-49d3-9ab0-4924b8fddbd4",
   "metadata": {},
   "outputs": [
    {
     "name": "stdout",
     "output_type": "stream",
     "text": [
      "<class 'pandas.core.frame.DataFrame'>\n",
      "RangeIndex: 15 entries, 0 to 14\n",
      "Data columns (total 7 columns):\n",
      " #   Column    Non-Null Count  Dtype  \n",
      "---  ------    --------------  -----  \n",
      " 0   isbn      15 non-null     object \n",
      " 1   title     15 non-null     object \n",
      " 2   author    15 non-null     object \n",
      " 3   language  15 non-null     object \n",
      " 4   pages     15 non-null     int64  \n",
      " 5   topic     15 non-null     object \n",
      " 6   price     15 non-null     float64\n",
      "dtypes: float64(1), int64(1), object(5)\n",
      "memory usage: 972.0+ bytes\n"
     ]
    }
   ],
   "source": [
    "df.info()"
   ]
  },
  {
   "cell_type": "code",
   "execution_count": 12,
   "id": "a4d1e099-e907-4e42-afe2-bde2374b2a4e",
   "metadata": {},
   "outputs": [
    {
     "data": {
      "text/plain": [
       "author\n",
       "Penelope Wainwright    4\n",
       "Jasper Sterling        2\n",
       "Benjamin Barkley       2\n",
       "Maximilian Thorne      1\n",
       "Celeste Nightshade     1\n",
       "Isadora Harrington     1\n",
       "Seraphina Montague     1\n",
       "Sophie Shepherd        1\n",
       "Oliver Obedience       1\n",
       "Ruby Ruffington        1\n",
       "Name: count, dtype: int64"
      ]
     },
     "execution_count": 12,
     "metadata": {},
     "output_type": "execute_result"
    }
   ],
   "source": [
    "#Q1 \"Which author has the most books listed at Bob's Bookstore?\"\n",
    "df['author'].value_counts()"
   ]
  },
  {
   "cell_type": "code",
   "execution_count": 13,
   "id": "f4bbd2fe-1fdf-4b73-be1a-cbec255b5b5c",
   "metadata": {},
   "outputs": [
    {
     "data": {
      "text/plain": [
       "topic\n",
       "Cats    10\n",
       "Dogs     5\n",
       "Name: count, dtype: int64"
      ]
     },
     "execution_count": 13,
     "metadata": {},
     "output_type": "execute_result"
    }
   ],
   "source": [
    "#Q2 \"Which is the most popular topic among books at Bob's Bookstore (which topic occurs most frequently)?\"\n",
    "df['topic'].value_counts()"
   ]
  },
  {
   "cell_type": "code",
   "execution_count": 14,
   "id": "570ab181-a1e7-436d-abdf-5e22db0c535b",
   "metadata": {},
   "outputs": [
    {
     "data": {
      "text/plain": [
       "topic\n",
       "Cats    17.79\n",
       "Dogs    26.59\n",
       "Name: price, dtype: float64"
      ]
     },
     "execution_count": 14,
     "metadata": {},
     "output_type": "execute_result"
    }
   ],
   "source": [
    "#Q3 \"Which topic of books is the most expensive, on average?\"\n",
    "df.groupby('topic')['price'].mean()"
   ]
  },
  {
   "cell_type": "code",
   "execution_count": 15,
   "id": "31ad6520-5238-4fde-b14a-0904efbbc9d4",
   "metadata": {},
   "outputs": [
    {
     "data": {
      "text/plain": [
       "topic\n",
       "Cats    238.4\n",
       "Dogs    256.0\n",
       "Name: pages, dtype: float64"
      ]
     },
     "execution_count": 15,
     "metadata": {},
     "output_type": "execute_result"
    }
   ],
   "source": [
    "#Q4 \"Which topic of book has the most pages, on average?\"\n",
    "df.groupby('topic')['pages'].mean()"
   ]
  }
 ],
 "metadata": {
  "kernelspec": {
   "display_name": "Python 3 (ipykernel)",
   "language": "python",
   "name": "python3"
  },
  "language_info": {
   "codemirror_mode": {
    "name": "ipython",
    "version": 3
   },
   "file_extension": ".py",
   "mimetype": "text/x-python",
   "name": "python",
   "nbconvert_exporter": "python",
   "pygments_lexer": "ipython3",
   "version": "3.13.5"
  }
 },
 "nbformat": 4,
 "nbformat_minor": 5
}
